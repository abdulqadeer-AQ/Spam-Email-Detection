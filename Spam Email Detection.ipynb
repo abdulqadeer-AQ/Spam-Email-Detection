{
 "cells": [
  {
   "cell_type": "code",
   "execution_count": 22,
   "id": "4d4d7528",
   "metadata": {},
   "outputs": [],
   "source": [
    "import pandas as pd\n",
    "import numpy as np\n",
    "from sklearn.preprocessing import LabelEncoder\n",
    "from sklearn.model_selection import train_test_split\n",
    "from sklearn.naive_bayes import GaussianNB,MultinomialNB\n",
    "from sklearn.linear_model import LogisticRegression\n",
    "from sklearn.feature_extraction.text import TfidfVectorizer, CountVectorizer\n",
    "from sklearn.metrics import accuracy_score,confusion_matrix,classification_report\n",
    "import warnings\n",
    "warnings.filterwarnings('ignore')\n",
    "import matplotlib.pyplot as plt\n",
    "import seaborn as sns"
   ]
  },
  {
   "cell_type": "markdown",
   "id": "233e1b0c",
   "metadata": {},
   "source": [
    "# Data Pre-processing"
   ]
  },
  {
   "cell_type": "code",
   "execution_count": 23,
   "id": "fafde1a1",
   "metadata": {},
   "outputs": [
    {
     "data": {
      "text/html": [
       "<div>\n",
       "<style scoped>\n",
       "    .dataframe tbody tr th:only-of-type {\n",
       "        vertical-align: middle;\n",
       "    }\n",
       "\n",
       "    .dataframe tbody tr th {\n",
       "        vertical-align: top;\n",
       "    }\n",
       "\n",
       "    .dataframe thead th {\n",
       "        text-align: right;\n",
       "    }\n",
       "</style>\n",
       "<table border=\"1\" class=\"dataframe\">\n",
       "  <thead>\n",
       "    <tr style=\"text-align: right;\">\n",
       "      <th></th>\n",
       "      <th>Category</th>\n",
       "      <th>Message</th>\n",
       "    </tr>\n",
       "  </thead>\n",
       "  <tbody>\n",
       "    <tr>\n",
       "      <th>0</th>\n",
       "      <td>ham</td>\n",
       "      <td>Go until jurong point, crazy.. Available only ...</td>\n",
       "    </tr>\n",
       "    <tr>\n",
       "      <th>1</th>\n",
       "      <td>ham</td>\n",
       "      <td>Ok lar... Joking wif u oni...</td>\n",
       "    </tr>\n",
       "    <tr>\n",
       "      <th>2</th>\n",
       "      <td>spam</td>\n",
       "      <td>Free entry in 2 a wkly comp to win FA Cup fina...</td>\n",
       "    </tr>\n",
       "    <tr>\n",
       "      <th>3</th>\n",
       "      <td>ham</td>\n",
       "      <td>U dun say so early hor... U c already then say...</td>\n",
       "    </tr>\n",
       "    <tr>\n",
       "      <th>4</th>\n",
       "      <td>ham</td>\n",
       "      <td>Nah I don't think he goes to usf, he lives aro...</td>\n",
       "    </tr>\n",
       "  </tbody>\n",
       "</table>\n",
       "</div>"
      ],
      "text/plain": [
       "  Category                                            Message\n",
       "0      ham  Go until jurong point, crazy.. Available only ...\n",
       "1      ham                      Ok lar... Joking wif u oni...\n",
       "2     spam  Free entry in 2 a wkly comp to win FA Cup fina...\n",
       "3      ham  U dun say so early hor... U c already then say...\n",
       "4      ham  Nah I don't think he goes to usf, he lives aro..."
      ]
     },
     "execution_count": 23,
     "metadata": {},
     "output_type": "execute_result"
    }
   ],
   "source": [
    "data=pd.read_csv('spam.csv')\n",
    "data.head(5)"
   ]
  },
  {
   "cell_type": "code",
   "execution_count": 24,
   "id": "af81900e",
   "metadata": {},
   "outputs": [
    {
     "data": {
      "text/plain": [
       "(5572, 2)"
      ]
     },
     "execution_count": 24,
     "metadata": {},
     "output_type": "execute_result"
    }
   ],
   "source": [
    "data.shape"
   ]
  },
  {
   "cell_type": "markdown",
   "id": "9641437b",
   "metadata": {},
   "source": [
    "Dataset contain 2 columns and 5572 rows"
   ]
  },
  {
   "cell_type": "markdown",
   "id": "13aeebf8",
   "metadata": {},
   "source": [
    "# Data Cleaning"
   ]
  },
  {
   "cell_type": "code",
   "execution_count": 25,
   "id": "f1b9efab",
   "metadata": {},
   "outputs": [
    {
     "name": "stdout",
     "output_type": "stream",
     "text": [
      "<class 'pandas.core.frame.DataFrame'>\n",
      "RangeIndex: 5572 entries, 0 to 5571\n",
      "Data columns (total 2 columns):\n",
      " #   Column    Non-Null Count  Dtype \n",
      "---  ------    --------------  ----- \n",
      " 0   Category  5572 non-null   object\n",
      " 1   Message   5572 non-null   object\n",
      "dtypes: object(2)\n",
      "memory usage: 87.2+ KB\n"
     ]
    }
   ],
   "source": [
    "data.info()"
   ]
  },
  {
   "cell_type": "code",
   "execution_count": 26,
   "id": "36f335ba",
   "metadata": {},
   "outputs": [
    {
     "name": "stdout",
     "output_type": "stream",
     "text": [
      "Dataset contain null values:\n",
      "Category    0\n",
      "Message     0\n",
      "dtype: int64\n",
      "Sum of duplicate values:415\n"
     ]
    }
   ],
   "source": [
    "missing_val=data.isna().sum()\n",
    "duplicate_value=data.duplicated().sum()\n",
    "print(f'Dataset contain null values:\\n{missing_val}')\n",
    "print(f'Sum of duplicate values:{duplicate_value}')"
   ]
  },
  {
   "cell_type": "markdown",
   "id": "7cd4c194",
   "metadata": {},
   "source": [
    "DataSet contain no null value but there have 415 duplicates value. So first remove duplicate value"
   ]
  },
  {
   "cell_type": "code",
   "execution_count": 27,
   "id": "1108fdd6",
   "metadata": {},
   "outputs": [
    {
     "data": {
      "text/plain": [
       "0"
      ]
     },
     "execution_count": 27,
     "metadata": {},
     "output_type": "execute_result"
    }
   ],
   "source": [
    "clean_data=data.drop_duplicates(keep='first')\n",
    "clean_data.duplicated().sum()"
   ]
  },
  {
   "cell_type": "code",
   "execution_count": 28,
   "id": "00d7de26",
   "metadata": {},
   "outputs": [
    {
     "data": {
      "text/plain": [
       "(5157, 2)"
      ]
     },
     "execution_count": 28,
     "metadata": {},
     "output_type": "execute_result"
    }
   ],
   "source": [
    "clean_data.shape"
   ]
  },
  {
   "cell_type": "markdown",
   "id": "ca5ee194",
   "metadata": {},
   "source": [
    "# Label Encoding"
   ]
  },
  {
   "cell_type": "code",
   "execution_count": 29,
   "id": "1c870d43",
   "metadata": {},
   "outputs": [
    {
     "data": {
      "text/html": [
       "<div>\n",
       "<style scoped>\n",
       "    .dataframe tbody tr th:only-of-type {\n",
       "        vertical-align: middle;\n",
       "    }\n",
       "\n",
       "    .dataframe tbody tr th {\n",
       "        vertical-align: top;\n",
       "    }\n",
       "\n",
       "    .dataframe thead th {\n",
       "        text-align: right;\n",
       "    }\n",
       "</style>\n",
       "<table border=\"1\" class=\"dataframe\">\n",
       "  <thead>\n",
       "    <tr style=\"text-align: right;\">\n",
       "      <th></th>\n",
       "      <th>Category</th>\n",
       "      <th>Message</th>\n",
       "    </tr>\n",
       "  </thead>\n",
       "  <tbody>\n",
       "    <tr>\n",
       "      <th>0</th>\n",
       "      <td>0</td>\n",
       "      <td>Go until jurong point, crazy.. Available only ...</td>\n",
       "    </tr>\n",
       "    <tr>\n",
       "      <th>1</th>\n",
       "      <td>0</td>\n",
       "      <td>Ok lar... Joking wif u oni...</td>\n",
       "    </tr>\n",
       "    <tr>\n",
       "      <th>2</th>\n",
       "      <td>1</td>\n",
       "      <td>Free entry in 2 a wkly comp to win FA Cup fina...</td>\n",
       "    </tr>\n",
       "    <tr>\n",
       "      <th>3</th>\n",
       "      <td>0</td>\n",
       "      <td>U dun say so early hor... U c already then say...</td>\n",
       "    </tr>\n",
       "    <tr>\n",
       "      <th>4</th>\n",
       "      <td>0</td>\n",
       "      <td>Nah I don't think he goes to usf, he lives aro...</td>\n",
       "    </tr>\n",
       "  </tbody>\n",
       "</table>\n",
       "</div>"
      ],
      "text/plain": [
       "   Category                                            Message\n",
       "0         0  Go until jurong point, crazy.. Available only ...\n",
       "1         0                      Ok lar... Joking wif u oni...\n",
       "2         1  Free entry in 2 a wkly comp to win FA Cup fina...\n",
       "3         0  U dun say so early hor... U c already then say...\n",
       "4         0  Nah I don't think he goes to usf, he lives aro..."
      ]
     },
     "execution_count": 29,
     "metadata": {},
     "output_type": "execute_result"
    }
   ],
   "source": [
    "encode=LabelEncoder()\n",
    "clean_data['Category']=encode.fit_transform(clean_data['Category'])\n",
    "clean_data.head()"
   ]
  },
  {
   "cell_type": "markdown",
   "id": "1ea0125b",
   "metadata": {},
   "source": [
    "With the help of label encoding, it convert ham into 0 and spam into 1"
   ]
  },
  {
   "cell_type": "code",
   "execution_count": 30,
   "id": "ad9c92a0",
   "metadata": {},
   "outputs": [
    {
     "data": {
      "text/plain": [
       "Category     int32\n",
       "Message     object\n",
       "dtype: object"
      ]
     },
     "execution_count": 30,
     "metadata": {},
     "output_type": "execute_result"
    }
   ],
   "source": [
    "clean_data.dtypes"
   ]
  },
  {
   "cell_type": "markdown",
   "id": "1bd993c9",
   "metadata": {},
   "source": [
    "Write Function which transform text into:\n",
    "- lower case\n",
    "- remove special character\n",
    "- tokenization\n",
    "- remove stop words\n",
    "- stemming"
   ]
  },
  {
   "cell_type": "code",
   "execution_count": 31,
   "id": "ca987871",
   "metadata": {},
   "outputs": [],
   "source": [
    "import re\n",
    "import string\n",
    "import nltk\n",
    "from nltk.stem.porter import PorterStemmer"
   ]
  },
  {
   "cell_type": "code",
   "execution_count": 32,
   "id": "c203515d",
   "metadata": {},
   "outputs": [],
   "source": [
    "def text_transform(text):\n",
    "    #lower case\n",
    "    text=text.lower()\n",
    "    \n",
    "    #remove special character\n",
    "    text=re.sub(r'[^a-zA-Z0-9\\s]','',text)\n",
    "    \n",
    "    #tokenization\n",
    "    text=nltk.word_tokenize(text)\n",
    "    \n",
    "    #stemming\n",
    "    stemmer=PorterStemmer()\n",
    "    text=[stemmer.stem(word) for word in text]\n",
    "    \n",
    "    return ' '.join(text)\n",
    "    "
   ]
  },
  {
   "cell_type": "code",
   "execution_count": 33,
   "id": "44982de1",
   "metadata": {},
   "outputs": [],
   "source": [
    "trans_data=clean_data.copy()"
   ]
  },
  {
   "cell_type": "code",
   "execution_count": 34,
   "id": "0bc7d6ee",
   "metadata": {},
   "outputs": [
    {
     "data": {
      "text/html": [
       "<div>\n",
       "<style scoped>\n",
       "    .dataframe tbody tr th:only-of-type {\n",
       "        vertical-align: middle;\n",
       "    }\n",
       "\n",
       "    .dataframe tbody tr th {\n",
       "        vertical-align: top;\n",
       "    }\n",
       "\n",
       "    .dataframe thead th {\n",
       "        text-align: right;\n",
       "    }\n",
       "</style>\n",
       "<table border=\"1\" class=\"dataframe\">\n",
       "  <thead>\n",
       "    <tr style=\"text-align: right;\">\n",
       "      <th></th>\n",
       "      <th>Category</th>\n",
       "      <th>Message</th>\n",
       "      <th>Transform_text</th>\n",
       "    </tr>\n",
       "  </thead>\n",
       "  <tbody>\n",
       "    <tr>\n",
       "      <th>0</th>\n",
       "      <td>0</td>\n",
       "      <td>Go until jurong point, crazy.. Available only ...</td>\n",
       "      <td>go until jurong point crazi avail onli in bugi...</td>\n",
       "    </tr>\n",
       "    <tr>\n",
       "      <th>1</th>\n",
       "      <td>0</td>\n",
       "      <td>Ok lar... Joking wif u oni...</td>\n",
       "      <td>ok lar joke wif u oni</td>\n",
       "    </tr>\n",
       "    <tr>\n",
       "      <th>2</th>\n",
       "      <td>1</td>\n",
       "      <td>Free entry in 2 a wkly comp to win FA Cup fina...</td>\n",
       "      <td>free entri in 2 a wkli comp to win fa cup fina...</td>\n",
       "    </tr>\n",
       "    <tr>\n",
       "      <th>3</th>\n",
       "      <td>0</td>\n",
       "      <td>U dun say so early hor... U c already then say...</td>\n",
       "      <td>u dun say so earli hor u c alreadi then say</td>\n",
       "    </tr>\n",
       "    <tr>\n",
       "      <th>4</th>\n",
       "      <td>0</td>\n",
       "      <td>Nah I don't think he goes to usf, he lives aro...</td>\n",
       "      <td>nah i dont think he goe to usf he live around ...</td>\n",
       "    </tr>\n",
       "  </tbody>\n",
       "</table>\n",
       "</div>"
      ],
      "text/plain": [
       "   Category                                            Message  \\\n",
       "0         0  Go until jurong point, crazy.. Available only ...   \n",
       "1         0                      Ok lar... Joking wif u oni...   \n",
       "2         1  Free entry in 2 a wkly comp to win FA Cup fina...   \n",
       "3         0  U dun say so early hor... U c already then say...   \n",
       "4         0  Nah I don't think he goes to usf, he lives aro...   \n",
       "\n",
       "                                      Transform_text  \n",
       "0  go until jurong point crazi avail onli in bugi...  \n",
       "1                              ok lar joke wif u oni  \n",
       "2  free entri in 2 a wkli comp to win fa cup fina...  \n",
       "3        u dun say so earli hor u c alreadi then say  \n",
       "4  nah i dont think he goe to usf he live around ...  "
      ]
     },
     "execution_count": 34,
     "metadata": {},
     "output_type": "execute_result"
    }
   ],
   "source": [
    "trans_data['Transform_text']=clean_data['Message'].apply(text_transform)\n",
    "trans_data.head()"
   ]
  },
  {
   "cell_type": "markdown",
   "id": "096ab076",
   "metadata": {},
   "source": [
    "# EDA"
   ]
  },
  {
   "cell_type": "code",
   "execution_count": 35,
   "id": "42c1bd38",
   "metadata": {},
   "outputs": [
    {
     "data": {
      "text/html": [
       "<div>\n",
       "<style scoped>\n",
       "    .dataframe tbody tr th:only-of-type {\n",
       "        vertical-align: middle;\n",
       "    }\n",
       "\n",
       "    .dataframe tbody tr th {\n",
       "        vertical-align: top;\n",
       "    }\n",
       "\n",
       "    .dataframe thead th {\n",
       "        text-align: right;\n",
       "    }\n",
       "</style>\n",
       "<table border=\"1\" class=\"dataframe\">\n",
       "  <thead>\n",
       "    <tr style=\"text-align: right;\">\n",
       "      <th></th>\n",
       "      <th>Category</th>\n",
       "    </tr>\n",
       "  </thead>\n",
       "  <tbody>\n",
       "    <tr>\n",
       "      <th>count</th>\n",
       "      <td>5157.000000</td>\n",
       "    </tr>\n",
       "    <tr>\n",
       "      <th>mean</th>\n",
       "      <td>0.124297</td>\n",
       "    </tr>\n",
       "    <tr>\n",
       "      <th>std</th>\n",
       "      <td>0.329952</td>\n",
       "    </tr>\n",
       "    <tr>\n",
       "      <th>min</th>\n",
       "      <td>0.000000</td>\n",
       "    </tr>\n",
       "    <tr>\n",
       "      <th>25%</th>\n",
       "      <td>0.000000</td>\n",
       "    </tr>\n",
       "    <tr>\n",
       "      <th>50%</th>\n",
       "      <td>0.000000</td>\n",
       "    </tr>\n",
       "    <tr>\n",
       "      <th>75%</th>\n",
       "      <td>0.000000</td>\n",
       "    </tr>\n",
       "    <tr>\n",
       "      <th>max</th>\n",
       "      <td>1.000000</td>\n",
       "    </tr>\n",
       "  </tbody>\n",
       "</table>\n",
       "</div>"
      ],
      "text/plain": [
       "          Category\n",
       "count  5157.000000\n",
       "mean      0.124297\n",
       "std       0.329952\n",
       "min       0.000000\n",
       "25%       0.000000\n",
       "50%       0.000000\n",
       "75%       0.000000\n",
       "max       1.000000"
      ]
     },
     "execution_count": 35,
     "metadata": {},
     "output_type": "execute_result"
    }
   ],
   "source": [
    "trans_data.describe()"
   ]
  },
  {
   "cell_type": "code",
   "execution_count": 36,
   "id": "53c5a24c",
   "metadata": {},
   "outputs": [
    {
     "data": {
      "image/png": "[encoded data removed]",
      "text/plain": [
       "<Figure size 640x480 with 1 Axes>"
      ]
     },
     "metadata": {},
     "output_type": "display_data"
    }
   ],
   "source": [
    "sns.countplot(x='Category', data=trans_data)\n",
    "plt.xticks([0,1],labels=['ham','spam'])\n",
    "plt.show()"
   ]
  },
  {
   "cell_type": "markdown",
   "id": "afd34ed9",
   "metadata": {},
   "source": [
    "- The graph show most frequent label in the Category column is ham. It indicated by 4516 out of 5157 messages being labeled as ham.\n",
    "- Message Uniqueness: Every message in your dataset is unique, meaning there are no duplicate messages.\n",
    "- This graph also show data is imblanced"
   ]
  },
  {
   "cell_type": "markdown",
   "id": "e31179a0",
   "metadata": {},
   "source": [
    "# Feature Selection"
   ]
  },
  {
   "cell_type": "code",
   "execution_count": 37,
   "id": "b584eb01",
   "metadata": {},
   "outputs": [],
   "source": [
    "# Applied featue extraction on text message to finf frquency matrix for data modeling\n",
    "#feature_extraction = TfidfVectorizer(min_df=1,stop_words='english')\n",
    "feature_extraction =CountVectorizer(min_df=1,stop_words='english')"
   ]
  },
  {
   "cell_type": "markdown",
   "id": "8b02cfcd",
   "metadata": {},
   "source": [
    "# Spam Filter Algorithms"
   ]
  },
  {
   "cell_type": "code",
   "execution_count": 38,
   "id": "8ca26b1b",
   "metadata": {},
   "outputs": [],
   "source": [
    "#split dataset into traget and feature data\n",
    "x = feature_extraction.fit_transform(trans_data['Transform_text']) \n",
    "y=trans_data['Category']"
   ]
  },
  {
   "cell_type": "code",
   "execution_count": 39,
   "id": "ad720d8b",
   "metadata": {},
   "outputs": [],
   "source": [
    "#Convert sparse matrix to dense (for GaussianNB)\n",
    "x_dense = x.toarray()"
   ]
  },
  {
   "cell_type": "code",
   "execution_count": 40,
   "id": "e2b2109e",
   "metadata": {},
   "outputs": [],
   "source": [
    "# Split data into 70% training & 30% testing data sets\n",
    "x_train,x_test,y_train,y_test=train_test_split(x_dense,y,test_size=0.3,random_state=3)"
   ]
  },
  {
   "cell_type": "code",
   "execution_count": 41,
   "id": "3fb6a44d",
   "metadata": {},
   "outputs": [
    {
     "name": "stdout",
     "output_type": "stream",
     "text": [
      "(5157, 7959)\n",
      "(3609, 7959)\n",
      "(1548, 7959)\n"
     ]
    }
   ],
   "source": [
    "print(x.shape)\n",
    "print(x_train.shape)\n",
    "print(x_test.shape)"
   ]
  },
  {
   "cell_type": "code",
   "execution_count": 42,
   "id": "f4324096",
   "metadata": {},
   "outputs": [
    {
     "name": "stdout",
     "output_type": "stream",
     "text": [
      "(5157,)\n",
      "(3609,)\n",
      "(1548,)\n"
     ]
    }
   ],
   "source": [
    "print(y.shape)\n",
    "print(y_train.shape)\n",
    "print(y_test.shape)"
   ]
  },
  {
   "cell_type": "code",
   "execution_count": 43,
   "id": "2a4f6538",
   "metadata": {},
   "outputs": [
    {
     "name": "stdout",
     "output_type": "stream",
     "text": [
      "[[0 0 0 ... 0 0 0]\n",
      " [0 0 0 ... 0 0 0]\n",
      " [0 0 0 ... 0 0 0]\n",
      " ...\n",
      " [0 0 0 ... 0 0 0]\n",
      " [0 0 0 ... 0 0 0]\n",
      " [0 0 0 ... 0 0 0]]\n"
     ]
    }
   ],
   "source": [
    "print(x_train)"
   ]
  },
  {
   "cell_type": "markdown",
   "id": "d725cb51",
   "metadata": {},
   "source": [
    "# Data Modeling\n"
   ]
  },
  {
   "cell_type": "code",
   "execution_count": 44,
   "id": "b68eceb9",
   "metadata": {},
   "outputs": [
    {
     "data": {
      "text/plain": [
       "GaussianNB()"
      ]
     },
     "execution_count": 44,
     "metadata": {},
     "output_type": "execute_result"
    }
   ],
   "source": [
    "Gaussian_model=GaussianNB()\n",
    "Gaussian_model.fit(x_train,y_train)\n"
   ]
  },
  {
   "cell_type": "code",
   "execution_count": 45,
   "id": "34a1756f",
   "metadata": {},
   "outputs": [
    {
     "data": {
      "text/plain": [
       "MultinomialNB()"
      ]
     },
     "execution_count": 45,
     "metadata": {},
     "output_type": "execute_result"
    }
   ],
   "source": [
    "Multinomial_model=MultinomialNB()\n",
    "Multinomial_model.fit(x_train,y_train)"
   ]
  },
  {
   "cell_type": "code",
   "execution_count": 46,
   "id": "ac29b57b",
   "metadata": {},
   "outputs": [
    {
     "data": {
      "text/plain": [
       "LogisticRegression()"
      ]
     },
     "execution_count": 46,
     "metadata": {},
     "output_type": "execute_result"
    }
   ],
   "source": [
    "Logistic_model=LogisticRegression()\n",
    "Logistic_model.fit(x_train,y_train)"
   ]
  },
  {
   "cell_type": "code",
   "execution_count": 47,
   "id": "2cb47cb7",
   "metadata": {},
   "outputs": [
    {
     "name": "stdout",
     "output_type": "stream",
     "text": [
      "Gaussian model predict data: [0 0 0 ... 0 1 0]\n",
      "Multinomial model predict data: [0 0 0 ... 0 0 0]\n",
      "Logistic Regression predict data: [0 0 0 ... 0 0 0]\n"
     ]
    }
   ],
   "source": [
    "gaussian_predict=Gaussian_model.predict(x_test)\n",
    "multinomial_predict=Multinomial_model.predict(x_test)\n",
    "logistic_predict=Logistic_model.predict(x_test)\n",
    "\n",
    "print(f'Gaussian model predict data: {gaussian_predict}')\n",
    "print(f'Multinomial model predict data: {multinomial_predict}')\n",
    "print(f'Logistic Regression predict data: {logistic_predict}')"
   ]
  },
  {
   "cell_type": "markdown",
   "id": "740ad0f5",
   "metadata": {},
   "source": [
    "# Confusion Matrix"
   ]
  },
  {
   "cell_type": "markdown",
   "id": "64b6a557",
   "metadata": {},
   "source": [
    "To check the performance of classifier's, showing how many predictions were correct and how many were misclassified than confusion matrix help to understand the strength and weakness of madel"
   ]
  },
  {
   "cell_type": "code",
   "execution_count": 48,
   "id": "58217a60",
   "metadata": {},
   "outputs": [],
   "source": [
    "gaussian_con_matrix=confusion_matrix(y_test,gaussian_predict)\n",
    "multinomial_con_matrix=confusion_matrix(y_test,multinomial_predict)\n",
    "logistic_con_matrix=confusion_matrix(y_test,logistic_predict)"
   ]
  },
  {
   "cell_type": "markdown",
   "id": "85f829e3",
   "metadata": {},
   "source": [
    "### Confusion matrix for GaussianNB"
   ]
  },
  {
   "cell_type": "code",
   "execution_count": 49,
   "id": "4b5a5cb7",
   "metadata": {},
   "outputs": [
    {
     "name": "stdout",
     "output_type": "stream",
     "text": [
      "Gaussian Model Confusion Matrix:\n"
     ]
    },
    {
     "data": {
      "text/html": [
       "<div>\n",
       "<style scoped>\n",
       "    .dataframe tbody tr th:only-of-type {\n",
       "        vertical-align: middle;\n",
       "    }\n",
       "\n",
       "    .dataframe tbody tr th {\n",
       "        vertical-align: top;\n",
       "    }\n",
       "\n",
       "    .dataframe thead th {\n",
       "        text-align: right;\n",
       "    }\n",
       "</style>\n",
       "<table border=\"1\" class=\"dataframe\">\n",
       "  <thead>\n",
       "    <tr style=\"text-align: right;\">\n",
       "      <th></th>\n",
       "      <th>False Positive</th>\n",
       "      <th>False Negative</th>\n",
       "    </tr>\n",
       "  </thead>\n",
       "  <tbody>\n",
       "    <tr>\n",
       "      <th>True Positive</th>\n",
       "      <td>1159</td>\n",
       "      <td>187</td>\n",
       "    </tr>\n",
       "    <tr>\n",
       "      <th>True Negative</th>\n",
       "      <td>24</td>\n",
       "      <td>178</td>\n",
       "    </tr>\n",
       "  </tbody>\n",
       "</table>\n",
       "</div>"
      ],
      "text/plain": [
       "               False Positive  False Negative\n",
       "True Positive            1159             187\n",
       "True Negative              24             178"
      ]
     },
     "execution_count": 49,
     "metadata": {},
     "output_type": "execute_result"
    }
   ],
   "source": [
    "gaussian_con_matrix_df=pd.DataFrame(gaussian_con_matrix,\n",
    "                                   index=['True Positive','True Negative'],\n",
    "                                   columns=['False Positive','False Negative'])\n",
    "print(f'Gaussian Model Confusion Matrix:')\n",
    "gaussian_con_matrix_df"
   ]
  },
  {
   "cell_type": "code",
   "execution_count": 63,
   "id": "05560506",
   "metadata": {},
   "outputs": [
    {
     "data": {
      "image/png": "[encoded data removed]",
      "text/plain": [
       "<Figure size 640x480 with 2 Axes>"
      ]
     },
     "metadata": {},
     "output_type": "display_data"
    }
   ],
   "source": [
    "sns.heatmap(gaussian_con_matrix,annot=True)\n",
    "plt.title('GaussianNB Confusion Matrix')\n",
    "plt.show()"
   ]
  },
  {
   "cell_type": "code",
   "execution_count": 51,
   "id": "67e118e9",
   "metadata": {},
   "outputs": [
    {
     "name": "stdout",
     "output_type": "stream",
     "text": [
      "Gaussion Classification Report:\n",
      "              precision    recall  f1-score   support\n",
      "\n",
      "           0       0.98      0.86      0.92      1346\n",
      "           1       0.49      0.88      0.63       202\n",
      "\n",
      "    accuracy                           0.86      1548\n",
      "   macro avg       0.73      0.87      0.77      1548\n",
      "weighted avg       0.92      0.86      0.88      1548\n",
      "\n"
     ]
    }
   ],
   "source": [
    "gaussion_classification_report=classification_report(y_test,gaussian_predict)\n",
    "print('Gaussion Classification Report:')\n",
    "print(gaussion_classification_report)"
   ]
  },
  {
   "cell_type": "markdown",
   "id": "a1a17f15",
   "metadata": {},
   "source": [
    "### MultinomialNB Confusion Matrix "
   ]
  },
  {
   "cell_type": "code",
   "execution_count": 52,
   "id": "64a5433c",
   "metadata": {},
   "outputs": [
    {
     "name": "stdout",
     "output_type": "stream",
     "text": [
      "Multinomial Model Confusion Matrix:\n"
     ]
    },
    {
     "data": {
      "text/html": [
       "<div>\n",
       "<style scoped>\n",
       "    .dataframe tbody tr th:only-of-type {\n",
       "        vertical-align: middle;\n",
       "    }\n",
       "\n",
       "    .dataframe tbody tr th {\n",
       "        vertical-align: top;\n",
       "    }\n",
       "\n",
       "    .dataframe thead th {\n",
       "        text-align: right;\n",
       "    }\n",
       "</style>\n",
       "<table border=\"1\" class=\"dataframe\">\n",
       "  <thead>\n",
       "    <tr style=\"text-align: right;\">\n",
       "      <th></th>\n",
       "      <th>False Positive</th>\n",
       "      <th>False Negative</th>\n",
       "    </tr>\n",
       "  </thead>\n",
       "  <tbody>\n",
       "    <tr>\n",
       "      <th>True Positive</th>\n",
       "      <td>1325</td>\n",
       "      <td>21</td>\n",
       "    </tr>\n",
       "    <tr>\n",
       "      <th>True Negative</th>\n",
       "      <td>16</td>\n",
       "      <td>186</td>\n",
       "    </tr>\n",
       "  </tbody>\n",
       "</table>\n",
       "</div>"
      ],
      "text/plain": [
       "               False Positive  False Negative\n",
       "True Positive            1325              21\n",
       "True Negative              16             186"
      ]
     },
     "execution_count": 52,
     "metadata": {},
     "output_type": "execute_result"
    }
   ],
   "source": [
    "multinomial_con_matrix_df=pd.DataFrame(multinomial_con_matrix,\n",
    "                                   index=['True Positive','True Negative'],\n",
    "                                   columns=['False Positive','False Negative'])\n",
    "print(f'Multinomial Model Confusion Matrix:')\n",
    "multinomial_con_matrix_df"
   ]
  },
  {
   "cell_type": "code",
   "execution_count": 62,
   "id": "2895ebaa",
   "metadata": {},
   "outputs": [
    {
     "data": {
      "image/png": "[encoded data removed]",
      "text/plain": [
       "<Figure size 640x480 with 2 Axes>"
      ]
     },
     "metadata": {},
     "output_type": "display_data"
    }
   ],
   "source": [
    "sns.heatmap(multinomial_con_matrix,annot=True)\n",
    "plt.title('MultinomialNB Confusion Matrix')\n",
    "plt.show()"
   ]
  },
  {
   "cell_type": "code",
   "execution_count": 54,
   "id": "42c5ec6c",
   "metadata": {},
   "outputs": [
    {
     "name": "stdout",
     "output_type": "stream",
     "text": [
      "Multinomial Classification Report:\n",
      "              precision    recall  f1-score   support\n",
      "\n",
      "           0       0.99      0.98      0.99      1346\n",
      "           1       0.90      0.92      0.91       202\n",
      "\n",
      "    accuracy                           0.98      1548\n",
      "   macro avg       0.94      0.95      0.95      1548\n",
      "weighted avg       0.98      0.98      0.98      1548\n",
      "\n"
     ]
    }
   ],
   "source": [
    "multinomial_classification_report=classification_report(y_test,multinomial_predict)\n",
    "print('Multinomial Classification Report:')\n",
    "print(multinomial_classification_report)"
   ]
  },
  {
   "cell_type": "markdown",
   "id": "a3bb0c73",
   "metadata": {},
   "source": [
    "### Logistic Regression Confusion matrix "
   ]
  },
  {
   "cell_type": "code",
   "execution_count": 55,
   "id": "1050a9fc",
   "metadata": {},
   "outputs": [
    {
     "name": "stdout",
     "output_type": "stream",
     "text": [
      "Logistic Regression Confusion Matrix:\n"
     ]
    },
    {
     "data": {
      "text/html": [
       "<div>\n",
       "<style scoped>\n",
       "    .dataframe tbody tr th:only-of-type {\n",
       "        vertical-align: middle;\n",
       "    }\n",
       "\n",
       "    .dataframe tbody tr th {\n",
       "        vertical-align: top;\n",
       "    }\n",
       "\n",
       "    .dataframe thead th {\n",
       "        text-align: right;\n",
       "    }\n",
       "</style>\n",
       "<table border=\"1\" class=\"dataframe\">\n",
       "  <thead>\n",
       "    <tr style=\"text-align: right;\">\n",
       "      <th></th>\n",
       "      <th>False Positive</th>\n",
       "      <th>False Negative</th>\n",
       "    </tr>\n",
       "  </thead>\n",
       "  <tbody>\n",
       "    <tr>\n",
       "      <th>True Positive</th>\n",
       "      <td>1345</td>\n",
       "      <td>1</td>\n",
       "    </tr>\n",
       "    <tr>\n",
       "      <th>True Negative</th>\n",
       "      <td>45</td>\n",
       "      <td>157</td>\n",
       "    </tr>\n",
       "  </tbody>\n",
       "</table>\n",
       "</div>"
      ],
      "text/plain": [
       "               False Positive  False Negative\n",
       "True Positive            1345               1\n",
       "True Negative              45             157"
      ]
     },
     "execution_count": 55,
     "metadata": {},
     "output_type": "execute_result"
    }
   ],
   "source": [
    "logistic_con_matrix_df=pd.DataFrame(logistic_con_matrix,\n",
    "                                   index=['True Positive','True Negative'],\n",
    "                                   columns=['False Positive','False Negative'])\n",
    "print(f'Logistic Regression Confusion Matrix:')\n",
    "logistic_con_matrix_df"
   ]
  },
  {
   "cell_type": "code",
   "execution_count": 61,
   "id": "14e691bc",
   "metadata": {},
   "outputs": [
    {
     "data": {
      "image/png": "[encoded data removed]",
      "text/plain": [
       "<Figure size 640x480 with 2 Axes>"
      ]
     },
     "metadata": {},
     "output_type": "display_data"
    }
   ],
   "source": [
    "sns.heatmap(logistic_con_matrix,annot=True)\n",
    "plt.title('Logistic Regression Confusion Matrix')\n",
    "plt.show()"
   ]
  },
  {
   "cell_type": "code",
   "execution_count": 56,
   "id": "15c14189",
   "metadata": {},
   "outputs": [
    {
     "name": "stdout",
     "output_type": "stream",
     "text": [
      "Logistic Regression Classification Report:\n",
      "              precision    recall  f1-score   support\n",
      "\n",
      "           0       0.97      1.00      0.98      1346\n",
      "           1       0.99      0.78      0.87       202\n",
      "\n",
      "    accuracy                           0.97      1548\n",
      "   macro avg       0.98      0.89      0.93      1548\n",
      "weighted avg       0.97      0.97      0.97      1548\n",
      "\n"
     ]
    }
   ],
   "source": [
    "logistic_classification_report=classification_report(y_test,logistic_predict)\n",
    "print('Logistic Regression Classification Report:')\n",
    "print(logistic_classification_report)"
   ]
  },
  {
   "cell_type": "markdown",
   "id": "4100ee74",
   "metadata": {},
   "source": [
    "With the help of Confusion Matric and classification report:\n",
    "- The Gaussian Naive Bayes model has a higher recall which is 0.85(85%) compared to the Multinomial model 0.65(65%), meaning it correctly identifies more positive cases.\n",
    "- The Multinomial Naive Bayes model has a higher precision 0.98 and accuracy 0.96(96%), but its recall is lower than the Gaussian model, which means it makes fewer positive predictions, but almost all of them are correct.\n",
    "- Due to imblanced data, choose model which has more precision value"
   ]
  },
  {
   "cell_type": "markdown",
   "id": "6ceabe0e",
   "metadata": {},
   "source": [
    "# Accuracy"
   ]
  },
  {
   "cell_type": "code",
   "execution_count": 57,
   "id": "91fd384d",
   "metadata": {
    "scrolled": true
   },
   "outputs": [
    {
     "name": "stdout",
     "output_type": "stream",
     "text": [
      "GaussianNB Accuracy: 0.8636950904392765\n",
      "MultinomialNB Accuracy: 0.9760981912144703\n",
      "Logistic Regression Accuracy: 0.9702842377260982\n"
     ]
    }
   ],
   "source": [
    "print(f'GaussianNB Accuracy: {accuracy_score(y_test,gaussian_predict )}')\n",
    "print(f'MultinomialNB Accuracy: {accuracy_score(y_test, multinomial_predict)}')\n",
    "print(f'Logistic Regression Accuracy: {accuracy_score(y_test, logistic_predict)}')"
   ]
  },
  {
   "cell_type": "markdown",
   "id": "5a26459c",
   "metadata": {},
   "source": [
    "The Accuracy Score of MultinomialNB model and Logistic Regression is almost same but precision score of Logistic Regression is hight. Dataset contain imblanced value so select logistic regression model for testing. It indicate that Logistic Regression model perform better than MultinomialNB & GaussianNB model"
   ]
  },
  {
   "cell_type": "markdown",
   "id": "c41e0c41",
   "metadata": {},
   "source": [
    "# Testing Phase"
   ]
  },
  {
   "cell_type": "code",
   "execution_count": 59,
   "id": "ea4eaf54",
   "metadata": {},
   "outputs": [
    {
     "name": "stdout",
     "output_type": "stream",
     "text": [
      "Enter Mail:I love you... Do you love me?\n",
      "0\n",
      "Ham Mail\n"
     ]
    }
   ],
   "source": [
    "input_mail=input('Enter Mail:')\n",
    "tranform_input=[text_transform(input_mail)]\n",
    "input_feature_extraction=feature_extraction.transform(tranform_input)\n",
    "predection=Logistic_model.predict(input_feature_extraction)[0]\n",
    "print(predection)\n",
    "if(predection==1):\n",
    "    print('\\nSpam Mail')\n",
    "else:\n",
    "    print('Ham Mail')"
   ]
  }
 ],
 "metadata": {
  "kernelspec": {
   "display_name": "Python 3 (ipykernel)",
   "language": "python",
   "name": "python3"
  },
  "language_info": {
   "codemirror_mode": {
    "name": "ipython",
    "version": 3
   },
   "file_extension": ".py",
   "mimetype": "text/x-python",
   "name": "python",
   "nbconvert_exporter": "python",
   "pygments_lexer": "ipython3",
   "version": "3.9.13"
  }
 },
 "nbformat": 4,
 "nbformat_minor": 5
}
